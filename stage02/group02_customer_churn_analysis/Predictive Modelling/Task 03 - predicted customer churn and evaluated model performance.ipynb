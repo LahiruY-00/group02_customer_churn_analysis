{
 "cells": [
  {
   "cell_type": "code",
   "execution_count": 25,
   "id": "b49c1209-93f4-42a1-b489-2fca16688ca1",
   "metadata": {},
   "outputs": [],
   "source": [
    "import pandas as pd\n",
    "import numpy as np\n",
    "from sklearn.preprocessing import StandardScaler, OneHotEncoder\n",
    "from sklearn.compose import ColumnTransformer\n",
    "from sklearn.pipeline import Pipeline\n",
    "from sklearn.impute import SimpleImputer\n",
    "from sklearn.model_selection import train_test_split\n",
    "from sklearn.neural_network import MLPClassifier\n",
    "from sklearn.metrics import accuracy_score, classification_report, confusion_matrix, roc_auc_score, roc_curve\n",
    "import matplotlib.pyplot as plt\n",
    "from tensorflow.keras.models import load_model"
   ]
  },
  {
   "cell_type": "markdown",
   "id": "0cea7e64-819b-4da0-ad81-ec6b25ac62b0",
   "metadata": {},
   "source": [
    "# Task3 \n",
    "## Predicted Customer Churn and Evaluated Model Performance:"
   ]
  },
  {
   "cell_type": "markdown",
   "id": "d8f78ec4-0507-48e8-8bfc-9efdfe2535d1",
   "metadata": {},
   "source": [
    "# Task3, 1 \n",
    "## Utilise the trained ANN model to predict customer churn based on critical customer attributes and behaviours."
   ]
  },
  {
   "cell_type": "code",
   "execution_count": 29,
   "id": "fabdc4da-40fe-48b7-bc61-48126e79ba11",
   "metadata": {},
   "outputs": [],
   "source": [
    "# Load the dataset\n",
    "df = pd.read_csv('D:\\\\WIL PROGRAM\\\\Customer_Churn_data.csv')\n",
    "\n",
    "# Define categorical and numerical features\n",
    "categorical_features = ['gender', 'PhoneService', 'MultipleLines', 'InternetService', 'Contract']\n",
    "numerical_features = ['tenure', 'MonthlyCharges']\n",
    "\n",
    "# Preprocessing for numerical features\n",
    "numerical_transformer = Pipeline(steps=[\n",
    "    ('imputer', SimpleImputer(strategy='median')),\n",
    "    ('scaler', StandardScaler())\n",
    "])\n",
    "\n",
    "# Preprocessing for categorical features\n",
    "categorical_transformer = Pipeline(steps=[\n",
    "    ('imputer', SimpleImputer(strategy='constant', fill_value='missing')),\n",
    "    ('onehot', OneHotEncoder(handle_unknown='ignore'))\n",
    "])\n",
    "\n",
    "# Combine preprocessing steps\n",
    "preprocessor = ColumnTransformer(\n",
    "    transformers=[\n",
    "        ('num', numerical_transformer, numerical_features),\n",
    "        ('cat', categorical_transformer, categorical_features)\n",
    "    ])\n",
    "\n",
    "# Separate features (X) and target (y)\n",
    "X = df.drop('Churn', axis=1)\n",
    "y = df['Churn'].apply(lambda x: 1 if x == 'Yes' else 0)  # Encode 'Yes' as 1 and 'No' as 0\n",
    "\n",
    "# Apply preprocessing and split the data into training and test sets\n",
    "X_preprocessed = preprocessor.fit_transform(X)\n",
    "X_train, X_test, y_train, y_test = train_test_split(X_preprocessed, y, test_size=0.2, random_state=42)\n",
    "\n",
    "# Define the ANN model (MLPClassifier)\n",
    "model = MLPClassifier(hidden_layer_sizes=(100,), max_iter=500, random_state=42)\n",
    "\n",
    "# Train the model on the training data\n",
    "model.fit(X_train, y_train)\n",
    "\n",
    "# Predict customer churn on the test data\n",
    "y_pred = model.predict(X_test)\n",
    "y_proba = model.predict_proba(X_test)[:, 1]  # Get probabilities for the positive class\n",
    "\n",
    "# Ensure y_proba is defined\n",
    "if y_proba is None:\n",
    "    raise ValueError(\"The predicted probabilities are not defined. Check your model and prediction code.\")\n"
   ]
  },
  {
   "cell_type": "markdown",
   "id": "6fb27d1b-e150-48d4-ad70-0606516b2b6c",
   "metadata": {},
   "source": [
    "\n",
    "#  Task3,2: \n",
    "##  (Evaluate the model's predictive performance by analysing the accuracy and robustness of churn predictions against the ground truth.)\n",
    "\n",
    "## Evaluating these Metrics for the given task:\n",
    "### 1.Confusion Matrix: To see how many true positives, true negatives, false positives, and false negatives your model has.\n",
    "### 2.Classification Report: Provides precision, recall, and F1 score for each class.\n",
    "### 3.ROC-AUC: To evaluate the performance of the model across different classification thresholds.\n"
   ]
  },
  {
   "cell_type": "code",
   "execution_count": 31,
   "id": "15b9be8a-dd7e-41cc-a9d0-f1e99e0240be",
   "metadata": {},
   "outputs": [
    {
     "name": "stdout",
     "output_type": "stream",
     "text": [
      "Accuracy: 0.81\n",
      "\n",
      "Classification Report:\n",
      "              precision    recall  f1-score   support\n",
      "\n",
      "           0       0.84      0.91      0.87      1036\n",
      "           1       0.68      0.53      0.59       373\n",
      "\n",
      "    accuracy                           0.81      1409\n",
      "   macro avg       0.76      0.72      0.73      1409\n",
      "weighted avg       0.80      0.81      0.80      1409\n",
      "\n",
      "\n",
      "Confusion Matrix:\n",
      "[[942  94]\n",
      " [176 197]]\n",
      "\n",
      "ROC-AUC Score: 0.85\n"
     ]
    },
    {
     "data": {
      "image/png": "[encoded data removed]",
      "text/plain": [
       "<Figure size 640x480 with 1 Axes>"
      ]
     },
     "metadata": {},
     "output_type": "display_data"
    }
   ],
   "source": [
    "# Evaluate the model's accuracy\n",
    "accuracy = accuracy_score(y_test, y_pred)\n",
    "print(f'Accuracy: {accuracy:.2f}')\n",
    "\n",
    "# Generate classification report and confusion matrix\n",
    "print(\"\\nClassification Report:\")\n",
    "print(classification_report(y_test, y_pred))\n",
    "\n",
    "print(\"\\nConfusion Matrix:\")\n",
    "print(confusion_matrix(y_test, y_pred))\n",
    "\n",
    "# ROC-AUC\n",
    "roc_auc = roc_auc_score(y_test, y_proba)\n",
    "print(f'\\nROC-AUC Score: {roc_auc:.2f}')\n",
    "\n",
    "# Plot ROC Curve\n",
    "fpr, tpr, _ = roc_curve(y_test, y_proba)\n",
    "plt.figure()\n",
    "plt.plot(fpr, tpr, marker='.')\n",
    "plt.xlabel('False Positive Rate')\n",
    "plt.ylabel('True Positive Rate')\n",
    "plt.title('ROC Curve')\n",
    "plt.show()"
   ]
  },
  {
   "cell_type": "code",
   "execution_count": null,
   "id": "babd3904-e221-488a-ba48-9fc8c87e2064",
   "metadata": {},
   "outputs": [],
   "source": []
  }
 ],
 "metadata": {
  "kernelspec": {
   "display_name": "Python 3 (ipykernel)",
   "language": "python",
   "name": "python3"
  },
  "language_info": {
   "codemirror_mode": {
    "name": "ipython",
    "version": 3
   },
   "file_extension": ".py",
   "mimetype": "text/x-python",
   "name": "python",
   "nbconvert_exporter": "python",
   "pygments_lexer": "ipython3",
   "version": "3.12.4"
  }
 },
 "nbformat": 4,
 "nbformat_minor": 5
}
