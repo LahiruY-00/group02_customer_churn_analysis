{
 "cells": [
  {
   "cell_type": "markdown",
   "id": "2045b074-89db-46f9-b7c5-853cf49e777c",
   "metadata": {},
   "source": [
    "# Customer Churn Analysis \n",
    "## Deliverables: Data Preparation and Modeling "
   ]
  },
  {
   "cell_type": "markdown",
   "id": "3ddafed8-0cce-4dba-9dd9-3b3a194d2740",
   "metadata": {},
   "source": [
    "### Data Preparation "
   ]
  },
  {
   "cell_type": "code",
   "execution_count": 1,
   "id": "85c07c00-8cfe-4383-9fdb-9c3058e0494e",
   "metadata": {},
   "outputs": [
    {
     "name": "stdout",
     "output_type": "stream",
     "text": [
      "   gender  SeniorCitizen Dependents  tenure PhoneService MultipleLines  \\\n",
      "0  Female              0         No       1           No            No   \n",
      "1    Male              0         No      34          Yes            No   \n",
      "2    Male              0         No       2          Yes            No   \n",
      "3    Male              0         No      45           No            No   \n",
      "4  Female              0         No       2          Yes            No   \n",
      "\n",
      "  InternetService        Contract  MonthlyCharges Churn  \n",
      "0             DSL  Month-to-month           29.85    No  \n",
      "1             DSL        One year           56.95    No  \n",
      "2             DSL  Month-to-month           53.85   Yes  \n",
      "3             DSL        One year           42.30    No  \n",
      "4     Fiber optic  Month-to-month           70.70   Yes  \n",
      "      gender  SeniorCitizen Dependents  tenure PhoneService MultipleLines  \\\n",
      "7038    Male              0        Yes      24          Yes           Yes   \n",
      "7039  Female              0        Yes      72          Yes           Yes   \n",
      "7040  Female              0        Yes      11           No            No   \n",
      "7041    Male              1         No       4          Yes           Yes   \n",
      "7042    Male              0         No      66          Yes            No   \n",
      "\n",
      "     InternetService        Contract  MonthlyCharges Churn  \n",
      "7038             DSL        One year           84.80    No  \n",
      "7039     Fiber optic        One year          103.20    No  \n",
      "7040             DSL  Month-to-month           29.60    No  \n",
      "7041     Fiber optic  Month-to-month           74.40   Yes  \n",
      "7042     Fiber optic        Two year          105.65    No  \n",
      "<class 'pandas.core.frame.DataFrame'>\n",
      "RangeIndex: 7043 entries, 0 to 7042\n",
      "Data columns (total 10 columns):\n",
      " #   Column           Non-Null Count  Dtype  \n",
      "---  ------           --------------  -----  \n",
      " 0   gender           7043 non-null   object \n",
      " 1   SeniorCitizen    7043 non-null   int64  \n",
      " 2   Dependents       7043 non-null   object \n",
      " 3   tenure           7043 non-null   int64  \n",
      " 4   PhoneService     7043 non-null   object \n",
      " 5   MultipleLines    7043 non-null   object \n",
      " 6   InternetService  7043 non-null   object \n",
      " 7   Contract         7043 non-null   object \n",
      " 8   MonthlyCharges   7043 non-null   float64\n",
      " 9   Churn            7043 non-null   object \n",
      "dtypes: float64(1), int64(2), object(7)\n",
      "memory usage: 550.4+ KB\n",
      "None\n",
      "gender              object\n",
      "SeniorCitizen        int64\n",
      "Dependents          object\n",
      "tenure               int64\n",
      "PhoneService        object\n",
      "MultipleLines       object\n",
      "InternetService     object\n",
      "Contract            object\n",
      "MonthlyCharges     float64\n",
      "Churn               object\n",
      "dtype: object\n",
      "0       False\n",
      "1       False\n",
      "2       False\n",
      "3       False\n",
      "4       False\n",
      "        ...  \n",
      "7038    False\n",
      "7039    False\n",
      "7040    False\n",
      "7041    False\n",
      "7042    False\n",
      "Length: 7043, dtype: bool\n",
      "       SeniorCitizen       tenure  MonthlyCharges\n",
      "count    7043.000000  7043.000000     7043.000000\n",
      "mean        0.162147    32.371149       64.761692\n",
      "std         0.368612    24.559481       30.090047\n",
      "min         0.000000     0.000000       18.250000\n",
      "25%         0.000000     9.000000       35.500000\n",
      "50%         0.000000    29.000000       70.350000\n",
      "75%         0.000000    55.000000       89.850000\n",
      "max         1.000000    72.000000      118.750000\n"
     ]
    }
   ],
   "source": [
    "# Understanding Dataset in dept and processing it as required\n",
    "import pandas as pd\n",
    "df = pd.read_csv (r'C:\\Users\\Lahiru Yasanga\\Documents\\WILDA\\Customer_Churn_data.csv.csv')\n",
    "df\n",
    "print(df.head())\n",
    "print(df.tail())\n",
    "print(df.info())\n",
    "print(df.dtypes)\n",
    "print(df.duplicated())\n",
    "print(df.describe())\n",
    "# Save the descriptive statistics to a CSV file\n",
    "df.describe().to_csv('preprocess_dataset.csv')\n",
    "df.duplicated().to_csv('PreprocessDataduplicated.csv', index=False)"
   ]
  },
  {
   "cell_type": "markdown",
   "id": "99b58875-a967-4803-97ff-22bd10cc2a9b",
   "metadata": {},
   "source": [
    "#### Processing"
   ]
  },
  {
   "cell_type": "code",
   "execution_count": 2,
   "id": "ad8b6f0a-8ea6-4a69-a5cd-707745048f34",
   "metadata": {},
   "outputs": [],
   "source": [
    "import pandas as pd\n",
    "from sklearn.model_selection import train_test_split\n",
    "from sklearn.preprocessing import StandardScaler\n",
    "df = pd.read_csv(r'C:\\Users\\Lahiru Yasanga\\Documents\\WILDA\\Customer_Churn_data.csv.csv')\n",
    "\n",
    "# Splitting the data into 80% training and 20% testing\n",
    "train_set, test_set = train_test_split(df, test_size=0.2, random_state=42)\n",
    "\n",
    "# Perform one-hot encoding (Encoding Categorical Variable)\n",
    "train_set_encoded = pd.get_dummies(train_set, drop_first=True)\n",
    "test_set_encoded = pd.get_dummies(test_set, drop_first=True)\n",
    "\n",
    "# Scale numeric features\n",
    "numeric_features = ['tenure', 'MonthlyCharges']\n",
    "scaler = StandardScaler()\n",
    "train_set_encoded[numeric_features] = scaler.fit_transform(train_set_encoded[numeric_features])\n",
    "test_set_encoded[numeric_features] = scaler.transform(test_set_encoded[numeric_features])"
   ]
  },
  {
   "cell_type": "code",
   "execution_count": 3,
   "id": "e719df89-a715-44cc-8df0-6231570435cc",
   "metadata": {
    "scrolled": true
   },
   "outputs": [
    {
     "name": "stdout",
     "output_type": "stream",
     "text": [
      "Final Training Set:\n",
      "       SeniorCitizen    tenure  MonthlyCharges  gender_Male  Dependents_Yes  \\\n",
      "2142              0 -0.465683       -0.000474            0               1   \n",
      "1623              0  0.885537        1.074754            0               0   \n",
      "6074              0 -1.284605       -1.376499            1               0   \n",
      "1362              0 -1.161766        0.177346            1               0   \n",
      "6754              0 -1.325551       -0.098524            1               1   \n",
      "...             ...       ...             ...          ...             ...   \n",
      "3772              0 -1.284605        1.001632            1               0   \n",
      "5191              0 -0.383791        0.872006            0               1   \n",
      "5226              0 -0.834198       -1.452945            1               1   \n",
      "5390              1 -0.834198        1.149538            1               0   \n",
      "860               0 -0.260953       -1.497815            1               0   \n",
      "\n",
      "      PhoneService_Yes  MultipleLines_Yes  InternetService_Fiber optic  \\\n",
      "2142                 1                  0                            0   \n",
      "1623                 1                  1                            1   \n",
      "6074                 0                  0                            0   \n",
      "1362                 1                  0                            1   \n",
      "6754                 1                  1                            0   \n",
      "...                ...                ...                          ...   \n",
      "3772                 1                  0                            1   \n",
      "5191                 1                  1                            0   \n",
      "5226                 1                  0                            0   \n",
      "5390                 1                  1                            1   \n",
      "860                  1                  0                            0   \n",
      "\n",
      "      Contract_One year  Contract_Two year  Churn_Yes  \n",
      "2142                  1                  0          0  \n",
      "1623                  0                  1          0  \n",
      "6074                  0                  0          1  \n",
      "1362                  0                  0          1  \n",
      "6754                  0                  1          0  \n",
      "...                 ...                ...        ...  \n",
      "3772                  0                  0          1  \n",
      "5191                  0                  1          0  \n",
      "5226                  0                  0          0  \n",
      "5390                  0                  0          1  \n",
      "860                   1                  0          0  \n",
      "\n",
      "[5634 rows x 11 columns]\n"
     ]
    }
   ],
   "source": [
    "# Displaying Training Set\n",
    "print(\"Final Training Set:\\n\", train_set_encoded)\n",
    "# Save the dataset to a CSV file\n",
    "train_set_encoded.to_csv('training_set.csv', index=False)"
   ]
  },
  {
   "cell_type": "code",
   "execution_count": 4,
   "id": "bbf8d957-d6c4-4f20-9910-57ce8f93a82a",
   "metadata": {},
   "outputs": [
    {
     "name": "stdout",
     "output_type": "stream",
     "text": [
      "\n",
      "Final Testing Set:\n",
      "       SeniorCitizen    tenure  MonthlyCharges  gender_Male  Dependents_Yes  \\\n",
      "185               0 -1.284605       -1.331629            0               0   \n",
      "2715              0  0.353238       -1.316672            1               0   \n",
      "3825              0  0.803645       -1.512772            0               1   \n",
      "1807              0 -1.284605        0.381756            0               0   \n",
      "132               0  1.417836       -0.475768            1               0   \n",
      "...             ...       ...             ...          ...             ...   \n",
      "6366              0  1.294997        0.114195            0               0   \n",
      "315               0  0.762699        1.501854            1               1   \n",
      "2439              0 -0.629468       -1.494492            1               1   \n",
      "5002              0  1.499728       -0.695134            0               1   \n",
      "1161              0 -1.284605       -1.113924            1               1   \n",
      "\n",
      "      PhoneService_Yes  MultipleLines_Yes  InternetService_Fiber optic  \\\n",
      "185                  0                  0                            0   \n",
      "2715                 1                  1                            0   \n",
      "3825                 1                  0                            0   \n",
      "1807                 1                  0                            1   \n",
      "132                  1                  0                            0   \n",
      "...                ...                ...                          ...   \n",
      "6366                 1                  0                            0   \n",
      "315                  1                  1                            1   \n",
      "2439                 1                  0                            0   \n",
      "5002                 0                  0                            0   \n",
      "1161                 0                  0                            0   \n",
      "\n",
      "      Contract_One year  Contract_Two year  Churn_Yes  \n",
      "185                   0                  0          1  \n",
      "2715                  0                  0          0  \n",
      "3825                  0                  1          0  \n",
      "1807                  0                  0          1  \n",
      "132                   0                  1          0  \n",
      "...                 ...                ...        ...  \n",
      "6366                  0                  1          0  \n",
      "315                   1                  0          0  \n",
      "2439                  1                  0          0  \n",
      "5002                  0                  1          0  \n",
      "1161                  0                  0          1  \n",
      "\n",
      "[1409 rows x 11 columns]\n"
     ]
    }
   ],
   "source": [
    "# Displaying Testing Set\n",
    "print(\"\\nFinal Testing Set:\\n\", test_set_encoded)\n",
    "# Save the dataset to a CSV file\n",
    "test_set_encoded.to_csv('testing_set.csv', index=False)"
   ]
  },
  {
   "cell_type": "code",
   "execution_count": 5,
   "id": "c00e46f9-3a77-4748-b989-999cf9863022",
   "metadata": {},
   "outputs": [
    {
     "name": "stdout",
     "output_type": "stream",
     "text": [
      "Scaled Training Set:\n",
      "       gender  SeniorCitizen Dependents  tenure PhoneService MultipleLines  \\\n",
      "2142  Female              0        Yes      21          Yes            No   \n",
      "1623  Female              0         No      54          Yes           Yes   \n",
      "6074    Male              0         No       1           No            No   \n",
      "1362    Male              0         No       4          Yes            No   \n",
      "6754    Male              0        Yes       0          Yes           Yes   \n",
      "...      ...            ...        ...     ...          ...           ...   \n",
      "3772    Male              0         No       1          Yes            No   \n",
      "5191  Female              0        Yes      23          Yes           Yes   \n",
      "5226    Male              0        Yes      12          Yes            No   \n",
      "5390    Male              1         No      12          Yes           Yes   \n",
      "860     Male              0         No      26          Yes            No   \n",
      "\n",
      "     InternetService        Contract  MonthlyCharges Churn  \n",
      "2142             DSL        One year           64.85    No  \n",
      "1623     Fiber optic        Two year           97.20    No  \n",
      "6074             DSL  Month-to-month           23.45   Yes  \n",
      "1362     Fiber optic  Month-to-month           70.20   Yes  \n",
      "6754             DSL        Two year           61.90    No  \n",
      "...              ...             ...             ...   ...  \n",
      "3772     Fiber optic  Month-to-month           95.00   Yes  \n",
      "5191             DSL        Two year           91.10    No  \n",
      "5226             DSL  Month-to-month           21.15    No  \n",
      "5390     Fiber optic  Month-to-month           99.45   Yes  \n",
      "860              DSL        One year           19.80    No  \n",
      "\n",
      "[5634 rows x 10 columns]\n"
     ]
    }
   ],
   "source": [
    "# Displaying Scaled Training Set\n",
    "print(\"Scaled Training Set:\\n\", train_set)"
   ]
  },
  {
   "cell_type": "code",
   "execution_count": 6,
   "id": "f08582eb-ab1b-4bb9-9f89-bfee45dd37d8",
   "metadata": {},
   "outputs": [
    {
     "name": "stdout",
     "output_type": "stream",
     "text": [
      "\n",
      "Scaled Testing Set:\n",
      "       gender  SeniorCitizen Dependents  tenure PhoneService MultipleLines  \\\n",
      "185   Female              0         No       1           No            No   \n",
      "2715    Male              0         No      41          Yes           Yes   \n",
      "3825  Female              0        Yes      52          Yes            No   \n",
      "1807  Female              0         No       1          Yes            No   \n",
      "132     Male              0         No      67          Yes            No   \n",
      "...      ...            ...        ...     ...          ...           ...   \n",
      "6366  Female              0         No      64          Yes            No   \n",
      "315     Male              0        Yes      51          Yes           Yes   \n",
      "2439    Male              0        Yes      17          Yes            No   \n",
      "5002  Female              0        Yes      69           No            No   \n",
      "1161    Male              0        Yes       1           No            No   \n",
      "\n",
      "     InternetService        Contract  MonthlyCharges Churn  \n",
      "185              DSL  Month-to-month           24.80   Yes  \n",
      "2715             DSL  Month-to-month           25.25    No  \n",
      "3825             DSL        Two year           19.35    No  \n",
      "1807     Fiber optic  Month-to-month           76.35   Yes  \n",
      "132              DSL        Two year           50.55    No  \n",
      "...              ...             ...             ...   ...  \n",
      "6366             DSL        Two year           68.30    No  \n",
      "315      Fiber optic        One year          110.05    No  \n",
      "2439             DSL        One year           19.90    No  \n",
      "5002             DSL        Two year           43.95    No  \n",
      "1161             DSL  Month-to-month           31.35   Yes  \n",
      "\n",
      "[1409 rows x 10 columns]\n"
     ]
    }
   ],
   "source": [
    "# Displaying Scaled Testing Set\n",
    "print(\"\\nScaled Testing Set:\\n\", test_set)"
   ]
  },
  {
   "cell_type": "code",
   "execution_count": null,
   "id": "1cb2e1fc-bfe7-47e1-a308-201ae2c07a5e",
   "metadata": {},
   "outputs": [],
   "source": []
  }
 ],
 "metadata": {
  "kernelspec": {
   "display_name": "Python 3",
   "language": "python",
   "name": "python3"
  },
  "language_info": {
   "codemirror_mode": {
    "name": "ipython",
    "version": 3
   },
   "file_extension": ".py",
   "mimetype": "text/x-python",
   "name": "python",
   "nbconvert_exporter": "python",
   "pygments_lexer": "ipython3",
   "version": "3.8.8"
  }
 },
 "nbformat": 4,
 "nbformat_minor": 5
}
